{
  "cells": [
    {
      "cell_type": "code",
      "execution_count": 26,
      "metadata": {
        "colab": {
          "base_uri": "https://localhost:8080/"
        },
        "id": "rnEFVa67bMUg",
        "outputId": "10ae1fb8-ff24-4f4e-da12-3ec1a7a39280"
      },
      "outputs": [
        {
          "name": "stdout",
          "output_type": "stream",
          "text": [
            "Requirement already satisfied: Pulp in /usr/local/lib/python3.10/dist-packages (2.9.0)\n"
          ]
        }
      ],
      "source": [
        "# Instalar la librería Pulp, Pyomo, Gurobi\n",
        "from pulp import *"
      ]
    },
    {
      "cell_type": "code",
      "execution_count": 27,
      "metadata": {
        "id": "OYja9uYlbXDs"
      },
      "outputs": [],
      "source": [
        "#SETS\n",
        "i_fabricas = ['i1', 'i2']\n",
        "j_bodegas = ['j1', 'j2']\n",
        "k_cds = ['k1', 'k2']\n",
        "l_clientes = ['l1', 'l2', 'l3']"
      ]
    },
    {
      "cell_type": "code",
      "execution_count": 28,
      "metadata": {
        "id": "_-ORWP2zbcy8"
      },
      "outputs": [],
      "source": [
        "# Parámetros\n",
        "oferta_i = {'i1': 100, 'i2': 100}\n",
        "capacidad_b = {'j1': 80, 'j2': 100}\n",
        "capacidad_cd = {'k1': 100, 'k2': 100}\n",
        "dem = {'l1': 40, 'l2': 80, 'l3': 80}\n",
        "\n",
        "costo_i_j = {('i1', 'j1'): 40, ('i1', 'j2'): 30,\n",
        "             ('i2', 'j1'): 40, ('i2', 'j2'): 50}\n",
        "\n",
        "costo_j_k = {('j1', 'k1'): 50, ('j1', 'k2'): 70,\n",
        "             ('j2', 'k1'): 80, ('j2', 'k2'): 60}\n",
        "\n",
        "costo_k_l = {('k1', 'l1'): 60, ('k1', 'l2'): 40, ('k1', 'l3'): 1e10,\n",
        "             ('k2', 'l1'): 1e10, ('k2', 'l2'): 20, ('k2', 'l3'): 90}\n",
        "\n",
        "costo_i_l = {('i1', 'l1'): 140, ('i1', 'l2'): 1e10, ('i1', 'l3'): 1e10,\n",
        "             ('i2', 'l1'): 1e10, ('i2', 'l2'): 1e10, ('i2', 'l3'): 150}"
      ]
    },
    {
      "cell_type": "code",
      "execution_count": 29,
      "metadata": {
        "id": "8i8jzkENbj8V"
      },
      "outputs": [],
      "source": [
        "# Variables de decisión\n",
        "x = LpVariable.dicts(\"x\", ((i, j) for i in i_fabricas for j in j_bodegas), lowBound=0)\n",
        "y = LpVariable.dicts(\"y\", ((j, k) for j in j_bodegas for k in k_cds),lowBound=0)\n",
        "z = LpVariable.dicts(\"z\", ((k, l) for k in k_cds for l in l_clientes), lowBound=0)\n",
        "w = LpVariable.dicts(\"w\", ((i, l) for i in i_fabricas for l in l_clientes), lowBound=0)\n",
        "c23 = LpVariable(\"c23\",lowBound=0)"
      ]
    },
    {
      "cell_type": "code",
      "execution_count": 30,
      "metadata": {
        "id": "iDVEPhfSbrmU"
      },
      "outputs": [],
      "source": [
        "# Problema de PL\n",
        "productos_enviados = LpProblem(\"productos_enviados\",LpMinimize)"
      ]
    },
    {
      "cell_type": "code",
      "execution_count": 31,
      "metadata": {
        "id": "MYanl9xBdQst"
      },
      "outputs": [],
      "source": [
        "# Funcion Objetivo\n",
        "productos_enviados += (pulp.lpSum(x[i, j] * costo_i_j[i, j] for i in i_fabricas for j in j_bodegas) +\n",
        "          pulp.lpSum(y[j, k] * costo_j_k[j, k] for j in j_bodegas for k in k_cds) +\n",
        "          pulp.lpSum(z[k, l] * costo_k_l[k, l] for k in k_cds for l in l_clientes) +\n",
        "          pulp.lpSum(w[i, l] * costo_i_l[i, l] for i in i_fabricas for l in l_clientes) +\n",
        "          20 * c23)\n"
      ]
    },
    {
      "cell_type": "code",
      "execution_count": 32,
      "metadata": {
        "id": "C7xeU4cSdd_M"
      },
      "outputs": [],
      "source": [
        "# Restricciones\n",
        "# R1: Oferta fabrica i\n",
        "for i in i_fabricas:\n",
        "    productos_enviados += lpSum(x[i, j] for j in j_bodegas) <= oferta_i[i]\n",
        "\n",
        "# R2: Capacidad de las bodegas\n",
        "for j in j_bodegas:\n",
        "    productos_enviados += pulp.lpSum(x[i, j] for i in i_fabricas) <= capacidad_b[j]\n",
        "\n",
        "# R3: Capacidad CD\n",
        "for k in k_cds:\n",
        "    productos_enviados += pulp.lpSum(y[j, k] for j in j_bodegas) <= capacidad_cd[k]\n",
        "# R4: Demanda cliente 1\n",
        "for l in l_clientes:\n",
        "  productos_enviados += pulp.lpSum(z[k,l] for k in k_cds) + pulp.lpSum(w[i,l] for i in i_fabricas) >= 40\n",
        "\n",
        "# R5: Demanda cliente 2\n",
        "for l in l_clientes:\n",
        "  productos_enviados+= pulp.lpSum(z[k,l] for k in k_cds) + pulp.lpSum(w[i,l] for i in i_fabricas) >= 80 + c23\n",
        "\n",
        "# R6: Demanda cliente 3\n",
        "for l in l_clientes:\n",
        "  productos_enviados += pulp.lpSum(z[k,l] for k in k_cds) + pulp.lpSum(w[i,l] for i in i_fabricas) + c23 >= 80\n",
        "\n",
        "# R7: Equilibrio bodegas\n",
        "for j in j_bodegas:\n",
        "    productos_enviados += pulp.lpSum(x[i, j] for i in i_fabricas) == pulp.lpSum(y[j, k] for k in k_cds)\n",
        "\n",
        "# R8: Equilibrio CDs\n",
        "for k in k_cds:\n",
        "    productos_enviados += pulp.lpSum(y[j, k] for j in j_bodegas) == pulp.lpSum(z[k, l] for l in l_clientes)\n"
      ]
    },
    {
      "cell_type": "code",
      "execution_count": 33,
      "metadata": {
        "colab": {
          "base_uri": "https://localhost:8080/"
        },
        "id": "jLFBiE4Bdy81",
        "outputId": "351ff606-5bf2-446a-eeac-7e36a7e9089e"
      },
      "outputs": [
        {
          "name": "stdout",
          "output_type": "stream",
          "text": [
            "Estado: Optimal\n",
            "Beneficio máximo: 32000.0\n",
            "c23 = 0.0\n",
            "w_('i1',_'l1') = 80.0\n",
            "w_('i1',_'l2') = 0.0\n",
            "w_('i1',_'l3') = 0.0\n",
            "w_('i2',_'l1') = 0.0\n",
            "w_('i2',_'l2') = 0.0\n",
            "w_('i2',_'l3') = 80.0\n",
            "x_('i1',_'j1') = 0.0\n",
            "x_('i1',_'j2') = 80.0\n",
            "x_('i2',_'j1') = 0.0\n",
            "x_('i2',_'j2') = 0.0\n",
            "y_('j1',_'k1') = 0.0\n",
            "y_('j1',_'k2') = 0.0\n",
            "y_('j2',_'k1') = 0.0\n",
            "y_('j2',_'k2') = 80.0\n",
            "z_('k1',_'l1') = 0.0\n",
            "z_('k1',_'l2') = 0.0\n",
            "z_('k1',_'l3') = 0.0\n",
            "z_('k2',_'l1') = 0.0\n",
            "z_('k2',_'l2') = 80.0\n",
            "z_('k2',_'l3') = 0.0\n"
          ]
        }
      ],
      "source": [
        "# Resolver y mostrar los resultados\n",
        "# Imprimir resultados\n",
        "productos_enviados.solve()\n",
        "\n",
        "print(\"Estado:\", LpStatus[productos_enviados.status])\n",
        "print(\"Beneficio máximo:\", value(productos_enviados.objective))\n",
        "for i in productos_enviados.variables():\n",
        "    print(i.name, \"=\", i.varValue)"
      ]
    }
  ],
  "metadata": {
    "colab": {
      "provenance": []
    },
    "kernelspec": {
      "display_name": "Python 3",
      "name": "python3"
    },
    "language_info": {
      "name": "python"
    }
  },
  "nbformat": 4,
  "nbformat_minor": 0
}
