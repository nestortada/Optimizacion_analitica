{
 "cells": [
  {
   "cell_type": "markdown",
   "metadata": {},
   "source": [
    "# Taller 12 Optimización y analitica dualidad"
   ]
  },
  {
   "cell_type": "markdown",
   "metadata": {},
   "source": [
    "por: Catalina Castro, Gabriella Espitia, Isabella Parales, Juan Diego Saldarriaga, Nestor Tabares"
   ]
  },
  {
   "cell_type": "markdown",
   "metadata": {},
   "source": [
    "## Punto 0"
   ]
  },
  {
   "cell_type": "code",
   "execution_count": 1,
   "metadata": {},
   "outputs": [],
   "source": [
    "from pulp import *"
   ]
  },
  {
   "cell_type": "code",
   "execution_count": 2,
   "metadata": {},
   "outputs": [
    {
     "name": "stdout",
     "output_type": "stream",
     "text": [
      "Estado: Optimal\n",
      "x_i1 (tablero) = 50.0\n",
      "x_i2 (cajas) = 0.0\n",
      "Valor de la función objetivo: 5000000.0\n",
      "\n",
      "Precios sombra (valores marginales):\n",
      "Capacidad de Almacenamiento (R1) = -0.0\n",
      "Permitido de Contaminación (R2) = 5000000.0\n"
     ]
    }
   ],
   "source": [
    "\n",
    "# Variables de decisión\n",
    "x_i1 = LpVariable(\"x_i1\", lowBound=0)  # Variable para producto i1 (tablero)\n",
    "x_i2 = LpVariable(\"x_i2\", lowBound=0)  # Variable para producto i2 (cajas)\n",
    "\n",
    "# Problema PL\n",
    "model_punto0 = LpProblem(\"Maximizar_Beneficio\", LpMaximize)\n",
    "\n",
    "# Función objetivo\n",
    "model_punto0 += 100000 * x_i1 + 50000 * x_i2\n",
    "\n",
    "# Restricción de capacidad de almacenamiento\n",
    "R1 = 20 * x_i1 + 10 * x_i2 <= 2000\n",
    "model_punto0 += R1\n",
    "\n",
    "# Restricción de permitido de contaminación\n",
    "R2 = 0.02 * x_i1 + 0.03 * x_i2 <= 1\n",
    "model_punto0 += R2\n",
    "\n",
    "# Resolver el modelo\n",
    "model_punto0.solve()\n",
    "\n",
    "# Imprimir el estado de la solución\n",
    "print(\"Estado:\", LpStatus[model_punto0.status])\n",
    "\n",
    "print(f\"x_i1 (tablero) = {x_i1.varValue}\")\n",
    "print(f\"x_i2 (cajas) = {x_i2.varValue}\")\n",
    "\n",
    "print(\"Valor de la función objetivo:\", value(model_punto0.objective))\n",
    "\n",
    "print(\"\\nPrecios sombra (valores marginales):\")\n",
    "print(f\"Capacidad de Almacenamiento (R1) = {R1.pi}\")\n",
    "print(f\"Permitido de Contaminación (R2) = {R2.pi}\")\n"
   ]
  },
  {
   "cell_type": "markdown",
   "metadata": {},
   "source": [
    "El gerente de PDP_SA deberia considerar negociar una oferta formal respecto al almacen de la fabrica adyacente por un costo de 700 u.m , dado que el costo es más grande que el marginal de almacenamiento(R1)"
   ]
  },
  {
   "cell_type": "code",
   "execution_count": 3,
   "metadata": {},
   "outputs": [
    {
     "name": "stdout",
     "output_type": "stream",
     "text": [
      "Opción 1\n",
      "La maxima ganancia teniendo en cuenta la nueva normativa de la maxima emisión del 0.9 es de 4500000.0 \n",
      "------------------------------------------------------------------------------------------------------------------------------------------------------------------------------------------------------------------------------------------------------------------------------------------------------------\n",
      "Opción 2\n",
      "La maxima ganancia al asumir la multa de 70000 u.m por exceder la maxima emisión permitido es de 4930000.0\n",
      "------------------------------------------------------------------------------------------------------------------------------------------------------------------------------------------------------------------------------------------------------------------------------------------------------------\n",
      "La opción 2 es mejor \n"
     ]
    }
   ],
   "source": [
    "# Opción 1\n",
    "diferencia = 0.9 -1\n",
    "costo = R2.pi * diferencia\n",
    "print(\"Opción 1\")\n",
    "print(f\"La maxima ganancia teniendo en cuenta la nueva normativa de la maxima emisión del 0.9 es de {value(model_punto0.objective)+costo} \")\n",
    "print(\"---\"*100)\n",
    "print(\"Opción 2\")\n",
    "print(f\"La maxima ganancia al asumir la multa de 70000 u.m por exceder la maxima emisión permitido es de {value(model_punto0.objective)-70000}\")\n",
    "print(\"---\"*100)\n",
    "if value(model_punto0.objective)+ costo> value(model_punto0.objective)-70000:\n",
    "    print(\" La opción 1 es la mejor\")\n",
    "else: \n",
    "    print(\"La opción 2 es mejor \")\n",
    "    \n"
   ]
  },
  {
   "cell_type": "markdown",
   "metadata": {},
   "source": [
    "Pagar la multa no es ético porque daña el medio ambiente, ignora la responsabilidad social y legal, y compromete la sostenibilidad a largo plazo."
   ]
  },
  {
   "cell_type": "markdown",
   "metadata": {},
   "source": [
    "## Punto 1"
   ]
  },
  {
   "cell_type": "code",
   "execution_count": 4,
   "metadata": {},
   "outputs": [
    {
     "name": "stdout",
     "output_type": "stream",
     "text": [
      "Estado: Optimal\n",
      "w_i1 (horas tipo A) = 20.0\n",
      "w_i2 (horas tipo B) = 75.0\n",
      "Valor de la función objetivo: 3400.0\n",
      "\n",
      "Precios sombra (valores marginales):\n",
      "Capacidad_de_Horas_Hombre: = -0.0\n",
      "Capacidad_de_Hombres_Máquina: = 4.0\n",
      "Demanda: = -0.0\n",
      "print\n"
     ]
    }
   ],
   "source": [
    "# Variables de decisión\n",
    "w_i1 = LpVariable(\"w_i1\", lowBound=0)  # Variable para horas tipo A\n",
    "w_i2 = LpVariable(\"w_i2\", lowBound=0)  # Variable para horas tipo B\n",
    "\n",
    "\n",
    "\n",
    "# Problema PL\n",
    "model_punto1 = LpProblem(\"Maximizar_Beneficio\", LpMaximize)\n",
    "# Función objetivo\n",
    "model_punto1 += 20 * w_i1 + 40 * w_i2, \"Función_Objetivo\"\n",
    "\n",
    "# Restricción de capacidad de horas hombre\n",
    "model_punto1 += 30 * w_i1 + 20 * w_i2 <= 2700, \"Capacidad_de_Horas_Hombre\"\n",
    "\n",
    "# Restricción de capacidad de hombres máquina\n",
    "model_punto1 += 5 * w_i1 + 10 * w_i2 <= 850, \"Capacidad_de_Hombres_Máquina\"\n",
    "\n",
    "# Restricción de demanda mínima\n",
    "model_punto1 += w_i1 + w_i2 >= 95, \"Demanda\"\n",
    "\n",
    "# Resolver el modelo\n",
    "model_punto1.solve()\n",
    "\n",
    "# Imprimir el estado de la solución\n",
    "print(\"Estado:\", LpStatus[model_punto1.status])\n",
    "\n",
    "# Imprimir la solución óptima\n",
    "print(f\"w_i1 (horas tipo A) = {w_i1.varValue}\")\n",
    "print(f\"w_i2 (horas tipo B) = {w_i2.varValue}\")\n",
    "\n",
    "# Imprimir el valor de la función objetivo\n",
    "print(\"Valor de la función objetivo:\", value(model_punto1.objective))\n",
    "\n",
    "print(\"\\nPrecios sombra (valores marginales):\")\n",
    "for nombre, restriccion in model_punto1.constraints.items():\n",
    "    print(f\"{nombre}: = {restriccion.pi}\")\n",
    "\n",
    "\n",
    "print(\"print\")\n"
   ]
  },
  {
   "cell_type": "markdown",
   "metadata": {},
   "source": [
    "La inversión de la empresa es incrorecta porque no maximiza los beneficios\n",
    "de la empresa pues las horas de ingeniero no dan mayor utilidad mientras\n",
    "que las de máquina si. Cada hora de máquina más da $4 más, en cambio las\n",
    "horas ingenieron no aumentan beneficio."
   ]
  },
  {
   "cell_type": "markdown",
   "metadata": {},
   "source": [
    "La empresa podría reducir su acuerdo con el cliente porque no perdería dinero\n",
    "pero no es que los beneficios vayan a aumentar, se van a mantener."
   ]
  },
  {
   "cell_type": "markdown",
   "metadata": {},
   "source": [
    "## Punto 2"
   ]
  },
  {
   "cell_type": "code",
   "execution_count": 5,
   "metadata": {},
   "outputs": [],
   "source": [
    "\n",
    "def punto2 ( hh = 56):\n",
    "    # Variables de decisión\n",
    "    y_i1 = LpVariable(\"y_i1\", lowBound=0)  # Variable para el producto i1 (pasteles)\n",
    "    y_i2 = LpVariable(\"y_i2\", lowBound=0)  # Variable para el producto i2 (galletas)\n",
    "\n",
    "    # Problema PL\n",
    "    model_punto2 = LpProblem(\"Maximizar_Beneficio\", LpMaximize)\n",
    "    # Función objetivo\n",
    "    model_punto2 += 70 * y_i1 + 90 * y_i2\n",
    "\n",
    "    # Restricción de horas de preparación\n",
    "    R12 = 4 * y_i1 + 3 * y_i2 <= 40\n",
    "    model_punto2 += R12\n",
    "\n",
    "    # Restricción de horas de horneado\n",
    "    R22 = 4 * y_i1 + 7 * y_i2 <= hh\n",
    "    model_punto2 += R22\n",
    "\n",
    "    # Resolver el modelo\n",
    "    model_punto2.solve()\n",
    "\n",
    "    # Imprimir el estado de la solución\n",
    "    print(\"Estado:\", LpStatus[model_punto2.status])\n",
    "\n",
    "    print(f\"y_i1 (pasteles) = {y_i1.varValue}\")\n",
    "    print(f\"y_i2 (galletas) = {y_i2.varValue}\")\n",
    "\n",
    "    print(\"Valor de la función objetivo:\", value(model_punto2.objective))\n",
    "\n",
    "    print(\"\\nPrecios sombra (valores marginales):\")\n",
    "    print(f\"Maximo de horas de preparación (R1) = {R12.pi}\")\n",
    "    print(f\"Maximo de horas de horneado (R2) = {R22.pi}\")\n"
   ]
  },
  {
   "cell_type": "code",
   "execution_count": 6,
   "metadata": {},
   "outputs": [
    {
     "name": "stdout",
     "output_type": "stream",
     "text": [
      "Con 56 horas de horneado diario\n",
      "Estado: Optimal\n",
      "y_i1 (pasteles) = 7.0\n",
      "y_i2 (galletas) = 4.0\n",
      "Valor de la función objetivo: 850.0\n",
      "\n",
      "Precios sombra (valores marginales):\n",
      "Maximo de horas de preparación (R1) = 8.125\n",
      "Maximo de horas de horneado (R2) = 9.375\n",
      "------------------------------------------------------------------------------------------------------------------------------------------------------------------------------------------------------------------------------------------------------------------------------------------------------------\n",
      "Con 72 horas de horneado diario\n",
      "Estado: Optimal\n",
      "y_i1 (pasteles) = 4.0\n",
      "y_i2 (galletas) = 8.0\n",
      "Valor de la función objetivo: 1000.0\n",
      "\n",
      "Precios sombra (valores marginales):\n",
      "Maximo de horas de preparación (R1) = 8.125\n",
      "Maximo de horas de horneado (R2) = 9.375\n"
     ]
    }
   ],
   "source": [
    "print(\"Con 56 horas de horneado diario\")\n",
    "punto2()\n",
    "print(\"---\"*100)\n",
    "print(\"Con 72 horas de horneado diario\")\n",
    "punto2(hh = 72)"
   ]
  },
  {
   "cell_type": "markdown",
   "metadata": {},
   "source": [
    "El marginal arroja un valor de 9.375, por lo cual el aumento de 16 horas daría un aumento en las\n",
    "ganancias de 150, aunque las horas de preparación son un limitante, al aumenar las horas de\n",
    "horneado la organización de cantidad de producto a producir cambia, por lo cual al final\n",
    "este aumento de horas si genera una ganancia a la panadería"
   ]
  },
  {
   "cell_type": "markdown",
   "metadata": {},
   "source": [
    "## Punto 3"
   ]
  },
  {
   "cell_type": "code",
   "execution_count": 7,
   "metadata": {},
   "outputs": [],
   "source": [
    "def punto3(qa = 80000):\n",
    "    # Variables de decisión\n",
    "    z_i1 = LpVariable(\"z_i1\", lowBound=0)  # Variable para químico A\n",
    "    z_i2 = LpVariable(\"z_i2\", lowBound=0)  # Variable para químico S1A\n",
    "    z_i3 = LpVariable(\"z_i3\", lowBound=0)  # Variable para químico S2A\n",
    "\n",
    "    # Crear el modelo de optimización\n",
    "    model_punto3 = LpProblem(\"Maximizar_Beneficio\", LpMaximize)\n",
    "    # Función objetivo\n",
    "    model_punto3 += 200 * z_i1 + 300 * z_i2 + 320 * z_i3, \"Función_Objetivo\"\n",
    "\n",
    "    # Restricción de almacenamiento\n",
    "    model_punto3 += z_i1 + z_i2 + z_i3 <= 100000, \"Almacenamiento\"\n",
    "\n",
    "    # Restricción de empaques de químico A\n",
    "    model_punto3 += z_i1 >= 60000, \"Empaque_Quimico_A\"\n",
    "\n",
    "    # Restricción de capacidad de producción para S2A\n",
    "    model_punto3 += z_i3 <= 12000, \"Capacidad_Producción_S2A\"\n",
    "\n",
    "    # Restricción de capacidad total de producción\n",
    "    model_punto3 += z_i1 + z_i2 + z_i3 <= qa, \"Capacidad_Producción_Total\"\n",
    "\n",
    "    # Restricción de capacidad de producción para S1A\n",
    "    model_punto3 += z_i2 <= 40000, \"Capacidad_Producción_S1A\"\n",
    "\n",
    "    # Restricción de relación entre S1A y S2A\n",
    "    model_punto3 += 3 * z_i2 == z_i3, \"Relacion_S1A_S2A\"\n",
    "\n",
    "    # Resolver el modelo\n",
    "    model_punto3.solve()\n",
    "\n",
    "    # Imprimir el estado de la solución\n",
    "    print(\"Estado:\", LpStatus[model_punto3.status])\n",
    "\n",
    "    print(f\"z_i1 (químico A) = {z_i1.varValue}\")\n",
    "    print(f\"z_i2 (químico S1A) = {z_i2.varValue}\")\n",
    "    print(f\"z_i3 (químico S2A) = {z_i3.varValue}\")\n",
    "\n",
    "    print(\"Valor de la función objetivo:\", value(model_punto3.objective))\n",
    "\n",
    "    print(\"\\nPrecios sombra (valores marginales):\")\n",
    "    for nombre, restriccion in model_punto3.constraints.items():\n",
    "        print(f\"{nombre}: {restriccion.pi}\")"
   ]
  },
  {
   "cell_type": "code",
   "execution_count": 8,
   "metadata": {},
   "outputs": [
    {
     "name": "stdout",
     "output_type": "stream",
     "text": [
      "Administrar el quimico A a 80000 litros\n",
      "Estado: Optimal\n",
      "z_i1 (químico A) = 64000.0\n",
      "z_i2 (químico S1A) = 4000.0\n",
      "z_i3 (químico S2A) = 12000.0\n",
      "Valor de la función objetivo: 17840000.0\n",
      "\n",
      "Precios sombra (valores marginales):\n",
      "Almacenamiento: -0.0\n",
      "Empaque_Quimico_A: -0.0\n",
      "Capacidad_Producción_S2A: 153.33333\n",
      "Capacidad_Producción_Total: 200.0\n",
      "Capacidad_Producción_S1A: -0.0\n",
      "Relacion_S1A_S2A: 33.333333\n",
      "------------------------------------------------------------------------------------------------------------------------------------------------------------------------------------------------------------------------------------------------------------------------------------------------------------\n",
      "Administrar el equipo A a 75000 litros\n",
      "Estado: Optimal\n",
      "z_i1 (químico A) = 60000.0\n",
      "z_i2 (químico S1A) = 3750.0\n",
      "z_i3 (químico S2A) = 11250.0\n",
      "Valor de la función objetivo: 16725000.0\n",
      "\n",
      "Precios sombra (valores marginales):\n",
      "Almacenamiento: -0.0\n",
      "Empaque_Quimico_A: -115.0\n",
      "Capacidad_Producción_S2A: -0.0\n",
      "Capacidad_Producción_Total: 315.0\n",
      "Capacidad_Producción_S1A: -0.0\n",
      "Relacion_S1A_S2A: -5.0\n"
     ]
    }
   ],
   "source": [
    "print(\"Administrar el quimico A a 80000 litros\")\n",
    "punto3()\n",
    "print(\"---\"*100)\n",
    "print(\"Administrar el equipo A a 75000 litros\")\n",
    "punto3(qa = 75000)"
   ]
  },
  {
   "cell_type": "markdown",
   "metadata": {},
   "source": [
    "Si se administran 75,000 litros del químico A, la ganancia máxima se reducirá en 1,115,000 unidades monetarias. Además, la producción de todos los productos del tipo i disminuirá."
   ]
  }
 ],
 "metadata": {
  "kernelspec": {
   "display_name": "Python 3",
   "language": "python",
   "name": "python3"
  },
  "language_info": {
   "codemirror_mode": {
    "name": "ipython",
    "version": 3
   },
   "file_extension": ".py",
   "mimetype": "text/x-python",
   "name": "python",
   "nbconvert_exporter": "python",
   "pygments_lexer": "ipython3",
   "version": "3.13.1"
  }
 },
 "nbformat": 4,
 "nbformat_minor": 2
}
