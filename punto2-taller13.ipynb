{
 "cells": [
  {
   "cell_type": "markdown",
   "metadata": {},
   "source": [
    "# Punto 2 Taller 13 "
   ]
  },
  {
   "cell_type": "markdown",
   "metadata": {},
   "source": [
    "por: Catalina Castro, Gabriella Espitia, Isabella Parales , Juan Saldarriaga y Nestor Tabares"
   ]
  },
  {
   "cell_type": "code",
   "execution_count": 1,
   "metadata": {},
   "outputs": [
    {
     "name": "stdout",
     "output_type": "stream",
     "text": [
      "Status: Optimal\n",
      "Valor de la función objetivo (w): 5511730003.3446665\n",
      "x_i1_j1 = 665000.0\n",
      "x_i1_j2 = 71040.0\n",
      "x_i2_j1 = 285000.0\n",
      "x_i2_j2 = 26640.0\n",
      "x_i3_j1 = 0.0\n",
      "x_i3_j2 = 17760.0\n",
      "x_i4_j1 = 950000.0\n",
      "x_i4_j2 = 62160.0\n",
      "y_j1_k1 = 1725000.0\n",
      "y_j1_k2 = 175000.0\n",
      "y_j2_k1 = 171200.0\n",
      "y_j2_k2 = 6400.0\n",
      "z_j1_k1_l1 = 600000.0\n",
      "z_j1_k1_l2 = 725000.0\n",
      "z_j1_k1_l3 = 400000.0\n",
      "z_j1_k1_l4 = 0.0\n",
      "z_j1_k2_l1 = 0.0\n",
      "z_j1_k2_l2 = 0.0\n",
      "z_j1_k2_l3 = 0.0\n",
      "z_j1_k2_l4 = 175000.0\n",
      "z_j2_k1_l1 = 52000.0\n",
      "z_j2_k1_l2 = 98400.0\n",
      "z_j2_k1_l3 = 20800.0\n",
      "z_j2_k1_l4 = 0.0\n",
      "z_j2_k2_l1 = 0.0\n",
      "z_j2_k2_l2 = 0.0\n",
      "z_j2_k2_l3 = 0.0\n",
      "z_j2_k2_l4 = 6400.0\n"
     ]
    }
   ],
   "source": [
    "import pulp\n",
    "\n",
    "# Sets\n",
    "compuestos = ['i1', 'i2', 'i3', 'i4']\n",
    "medicamentos = ['j1', 'j2']\n",
    "fabricas = ['k1', 'k2']\n",
    "cds = ['l1', 'l2', 'l3', 'l4']\n",
    "\n",
    "# Parameters\n",
    "precio_i = {'i1': 0, 'i2': 350, 'i3': 800, 'i4': 550}\n",
    "disponibilidad_i = {'i1': 1e200, 'i2': 10000000, 'i3': 8000000, 'i4': 12000000}\n",
    "demanda1_l = {'l1': 120000, 'l2': 145000, 'l3': 80000, 'l4': 35000}\n",
    "demanda2_l = {'l1': 6500, 'l2': 12300, 'l3': 2600, 'l4': 800}\n",
    "preciofab_j = {'j1': 2300, 'j2': 2600}\n",
    "\n",
    "transporte_k_l = {\n",
    "    ('k1', 'l1'): 4.5e-6, ('k1', 'l2'): 0.015e-6, ('k1', 'l3'): 0.8e-6, ('k1', 'l4'): 15e-6,\n",
    "    ('k2', 'l1'): 65e-6, ('k2', 'l2'): 3.5e-6, ('k2', 'l3'): 3.8e-6, ('k2', 'l4'): 0.34e-6\n",
    "}\n",
    "\n",
    "# Creación PL\n",
    "model = pulp.LpProblem(\"Punto2\", pulp.LpMinimize)\n",
    "\n",
    "# Variables\n",
    "x = pulp.LpVariable.dicts(\"x\", (compuestos, medicamentos), lowBound=0, cat='Continuous')\n",
    "y = pulp.LpVariable.dicts(\"y\", (medicamentos, fabricas), lowBound=0, cat='Continuous')\n",
    "z = pulp.LpVariable.dicts(\"z\", (medicamentos, fabricas, cds), lowBound=0, cat='Continuous')\n",
    "w = pulp.LpVariable(\"w\", lowBound=0)\n",
    "\n",
    "# Función Objetivo\n",
    "model += pulp.lpSum([x[i][j] * precio_i[i] for i in compuestos for j in medicamentos]) + \\\n",
    "         pulp.lpSum([y[j][k] * preciofab_j[j] for j in medicamentos for k in fabricas]) + \\\n",
    "         pulp.lpSum([z[j][k][l] * transporte_k_l[(k, l)] for j in medicamentos for k in fabricas for l in cds])\n",
    "\n",
    "# Restricciones\n",
    "# R1: Disponibilidad\n",
    "for i in compuestos:\n",
    "    model += pulp.lpSum([x[i][j] for j in medicamentos]) <= disponibilidad_i[i], f\"Disponibilidad_{i}\"\n",
    "\n",
    "# R2: Demanda 1\n",
    "for l in cds:\n",
    "    model += pulp.lpSum([z['j1'][k][l] for k in fabricas]) >= demanda1_l[l] * 5, f\"Demanda1_{l}\"\n",
    "\n",
    "# R3: Demanda 2\n",
    "for l in cds:\n",
    "    model += pulp.lpSum([z['j2'][k][l] for k in fabricas]) >= demanda2_l[l] * 8, f\"Demanda2_{l}\"\n",
    "\n",
    "# R4 to R6: Procentajes menores para j1\n",
    "model += x['i1']['j1'] <= 0.35 * pulp.lpSum([x[i]['j1'] for i in compuestos]), \"R4_Procentaje_menor_x11\"\n",
    "model += x['i2']['j1'] <= 0.15 * pulp.lpSum([x[i]['j1'] for i in compuestos]), \"R5_Procentaje_menor_x21\"\n",
    "model += x['i3']['j1'] <= 0.10 * pulp.lpSum([x[i]['j1'] for i in compuestos]), \"R6_Procentaje_menor_x31\"\n",
    "\n",
    "# R7: Función de equilibrio 1\n",
    "for j in medicamentos:\n",
    "    model += pulp.lpSum([x[i][j] for i in compuestos]) == pulp.lpSum([y[j][k] for k in fabricas]), f\"R7_Función_equilibrio_{j}\"\n",
    "\n",
    "# R8 to R11: Procentajes menores para j2\n",
    "model += x['i1']['j2'] == 0.40 * pulp.lpSum([x[i]['j2'] for i in compuestos]), \"R8_Procentaje_menor_x12\"\n",
    "model += x['i2']['j2'] == 0.15 * pulp.lpSum([x[i]['j2'] for i in compuestos]), \"R9_Procentaje_menor_x22\"\n",
    "model += x['i3']['j2'] == 0.10 * pulp.lpSum([x[i]['j2'] for i in compuestos]), \"R10_Procentaje_menor_x32\"\n",
    "model += x['i4']['j2'] == 0.35 * pulp.lpSum([x[i]['j2'] for i in compuestos]), \"R11_Procentaje_menor_x42\"\n",
    "\n",
    "# R12 and R13: Función de equilibrio 2 y 3\n",
    "for j in medicamentos:\n",
    "    model += y[j]['k1'] == pulp.lpSum([z[j]['k1'][l] for l in cds]), f\"R12_Función_equilibrio_{j}_k1\"\n",
    "    model += y[j]['k2'] == pulp.lpSum([z[j]['k2'][l] for l in cds]), f\"R13_Función_equilibrio_{j}_k2\"\n",
    "\n",
    "# Resolver problema\n",
    "model.solve()\n",
    "\n",
    "# Resultado \n",
    "print(f\"Status: {pulp.LpStatus[model.status]}\")\n",
    "print(f\"Valor de la función objetivo (w): {pulp.value(model.objective)}\")\n",
    "\n",
    "# Valores de las variables de decisión \n",
    "for v in model.variables():\n",
    "    print(f\"{v.name} = {v.varValue}\")\n"
   ]
  },
  {
   "cell_type": "markdown",
   "metadata": {},
   "source": [
    "# Plan de distribución para minizar los costos "
   ]
  },
  {
   "cell_type": "markdown",
   "metadata": {},
   "source": [
    "## Composición de los medicamentos "
   ]
  },
  {
   "cell_type": "markdown",
   "metadata": {},
   "source": [
    "Medicamento tipo 1: \n",
    "\n",
    "* Compuesto tipo 1 = 665000 mg \n",
    "* Compuesto tipo 2 = 285000 mg\n",
    "* Compuesto tipo 3 = No se utiliza para hacer el medicamento 1 \n",
    "* Compuesto tipo 4 = 950000 mg"
   ]
  },
  {
   "cell_type": "markdown",
   "metadata": {},
   "source": [
    "Medicamento tipo 2: \n",
    "\n",
    "* Compuesto tipo 1 = 71040 mg \n",
    "* Compuesto tipo 2 = 26540  mg\n",
    "* Compuesto tipo 3 = 17760 mg\n",
    "* Compuesto tipo 4 = 62160 mg"
   ]
  },
  {
   "cell_type": "markdown",
   "metadata": {},
   "source": [
    "## Producción en la fábricas"
   ]
  },
  {
   "cell_type": "markdown",
   "metadata": {},
   "source": [
    "Fábrica de Chia\n",
    "\n",
    "* Produce: 1725000 mg del medicamento 1\n",
    "* Produce : 171200 mg del medicamento 2 \n",
    "\n",
    "Fábrica Cota\n",
    "\n",
    "* Produce: 175000 mg del medicamento 1\n",
    "* Produce: 6400 mg del medicamento 2"
   ]
  },
  {
   "cell_type": "markdown",
   "metadata": {},
   "source": [
    "## Distribución de medicamento a los centros de distribución "
   ]
  },
  {
   "cell_type": "markdown",
   "metadata": {},
   "source": [
    "Medicamento 1: \n",
    "\n",
    "* Desde la fábrica de Chia\n",
    "\n",
    "  * Aracataca: 600000 mg\n",
    "  * Rionegro: 725000 mg\n",
    "  * Leticia: 400000 mg \n",
    "  * Puerto Carreño: No se transporta nada del medicamento 1\n",
    "\n",
    "* desde la fábrica de Cota\n",
    "\n",
    "  * Aracataca: No se transporta nada del medicamento 1\n",
    "  * Rionegro: No se transporta nada del medicamento 1\n",
    "  * Leticia: No se transporta nada del medicamento 1\n",
    "  * Puerto carreño:  175000 mg \n",
    "\n",
    "Medicamento 2: \n",
    "\n",
    "* Desde la fábrica de Chia\n",
    "\n",
    "  * Aracataca: 52000 mg\n",
    "  * Rionegro: 98400 mg\n",
    "  * Leticia: 20800 mg \n",
    "  * Puerto Carreño: No se transporta nada del medicamento 1\n",
    "  \n",
    "* Desde la fábrica de Cota\n",
    "\n",
    "  * Aracataca: No se transporta nada del medicamento 1\n",
    "  * Rionegro: No se transporta nada del medicamento 1\n",
    "  * Leticia: No se transporta nada del medicamento 1\n",
    "  * Puerto carreño:  6400 mg \n",
    "\n"
   ]
  },
  {
   "cell_type": "markdown",
   "metadata": {},
   "source": [
    "# Costos Totales"
   ]
  },
  {
   "cell_type": "markdown",
   "metadata": {},
   "source": [
    "El valor de la función objetivo, que representa los costos totales de producción y distribución, es 5,511,730,003.34 unidades monetarias."
   ]
  }
 ],
 "metadata": {
  "kernelspec": {
   "display_name": "Python 3",
   "language": "python",
   "name": "python3"
  },
  "language_info": {
   "codemirror_mode": {
    "name": "ipython",
    "version": 3
   },
   "file_extension": ".py",
   "mimetype": "text/x-python",
   "name": "python",
   "nbconvert_exporter": "python",
   "pygments_lexer": "ipython3",
   "version": "3.13.1"
  }
 },
 "nbformat": 4,
 "nbformat_minor": 2
}
