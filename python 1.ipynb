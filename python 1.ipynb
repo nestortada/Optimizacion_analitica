{
 "cells": [
  {
   "cell_type": "code",
   "execution_count": 1,
   "metadata": {},
   "outputs": [],
   "source": [
    "# instalar la libreria PULP, Pyomo, Gurobt\n",
    "from pulp import *"
   ]
  },
  {
   "cell_type": "code",
   "execution_count": 2,
   "metadata": {},
   "outputs": [],
   "source": [
    "# sets \n",
    "refineria = [\"i1\", \"i2\", \"i3\"] #refineria de tipo i\n",
    "cds = [\"j1\", \"j2\", \"j3\", \"j4\"] # Centros de distribución j\n"
   ]
  },
  {
   "cell_type": "code",
   "execution_count": 3,
   "metadata": {},
   "outputs": [],
   "source": [
    "# Parametros \n",
    "\n",
    "capacidad_i = {\"i1\": 2500, \"i2\": 3000, \"i3\": 4000}# Capacidad de la refineria i\n",
    "dem_max_j = {\"j1\": 4000, \"j2\": 5000, \"j3\": 6000, \"j4\": 9000} # Demanda maxima cd j\n",
    "\n",
    "costo_add_i = {\"i1\": 0.125, \"i2\": 0.14, \"i3\": 0.17}\n",
    "\n",
    "matriz_beneficio_i_j = {(\"i1\",\"j1\"):1.6,(\"i1\",\"j2\"):2,(\"i1\", \"j3\"): 1.2,(\"i1\", \"j4\"):1.3,\n",
    "                        (\"i2\",\"j1\"):1.2, (\"i2\",\"j2\"):1.6, (\"i2\",\"j3\"): 1.5, (\"i2\", \"j4\"):1.8,\n",
    "                        (\"i3\", \"j1\"): 2.5, (\"i3\",\"j2\"): 1.8, (\"i3\",\"j3\"): 1.65, (\"i3\",\"j4\"):1}\n"
   ]
  },
  {
   "cell_type": "code",
   "execution_count": 4,
   "metadata": {},
   "outputs": [],
   "source": [
    "#Variable de decisión \n",
    "x = LpVariable.dicts(\"x\", ((i, j) for i in refineria for j in cds), lowBound=0)\n",
    "\n",
    "y = LpVariable.dicts(\"y\", (i for i in refineria), lowBound=0)\n",
    "\n"
   ]
  },
  {
   "cell_type": "code",
   "execution_count": 5,
   "metadata": {},
   "outputs": [],
   "source": [
    "#Problemas PL\n",
    "barriles_enviados = LpProblem(\"barriles_enviados\", LpMaximize)"
   ]
  },
  {
   "cell_type": "code",
   "execution_count": 6,
   "metadata": {},
   "outputs": [],
   "source": [
    "# Función objetivo\n",
    "\n",
    "barriles_enviados += lpSum(x[i,j]*matriz_beneficio_i_j[i,j] for i in refineria for j in cds)- lpSum(y[i]*costo_add_i[i] for i in refineria)\n"
   ]
  },
  {
   "cell_type": "code",
   "execution_count": 7,
   "metadata": {},
   "outputs": [],
   "source": [
    "#Restricciones \n",
    "#Restricciones ded capacidad \n",
    "\n",
    "for i in refineria:\n",
    "    barriles_enviados += lpSum(x[i,j] for j in cds)<= capacidad_i[i] + y[i]\n",
    "\n",
    "#Restricciones de demanda minima \n",
    "for j in cds:\n",
    "    barriles_enviados += lpSum(x[i,j] for i in refineria)>= dem_max_j[j]*0.8\n",
    "\n",
    "# Restriccion de demanda maxima\n",
    "for j in cds:\n",
    "    barriles_enviados += lpSum(x[i,j] for i in refineria)<= dem_max_j[j]\n",
    "\n",
    "# Restricciones de presupuesto \n",
    "\n",
    "barriles_enviados += lpSum(y[i]*costo_add_i[i] for i in refineria)<= 1500\n",
    "\n",
    "# Restriccion del 25%\n",
    "\n",
    "for i in refineria:\n",
    "    barriles_enviados += lpSum(x[i,j] for j in cds)>= 0.25*lpSum(x[i,j] for i in refineria for j in cds)"
   ]
  },
  {
   "cell_type": "code",
   "execution_count": 8,
   "metadata": {},
   "outputs": [
    {
     "name": "stdout",
     "output_type": "stream",
     "text": [
      "Estado: Optimal\n",
      "x_('i1',_'j1') _ 0.0\n",
      "x_('i1',_'j2') _ 4260.8696\n",
      "x_('i1',_'j3') _ 804.34783\n",
      "x_('i1',_'j4') _ 0.0\n",
      "x_('i2',_'j1') _ 0.0\n",
      "x_('i2',_'j2') _ 0.0\n",
      "x_('i2',_'j3') _ 2930.4348\n",
      "x_('i2',_'j4') _ 7200.0\n",
      "x_('i3',_'j1') _ 4000.0\n",
      "x_('i3',_'j2') _ 0.0\n",
      "x_('i3',_'j3') _ 1065.2174\n",
      "x_('i3',_'j4') _ 0.0\n",
      "y_i1 _ 2565.2174\n",
      "y_i2 _ 7130.4348\n",
      "y_i3 _ 1065.2174\n",
      "1.6*x_('i1',_'j1') + 2*x_('i1',_'j2') + 1.2*x_('i1',_'j3') + 1.3*x_('i1',_'j4') + 1.2*x_('i2',_'j1') + 1.6*x_('i2',_'j2') + 1.5*x_('i2',_'j3') + 1.8*x_('i2',_'j4') + 2.5*x_('i3',_'j1') + 1.8*x_('i3',_'j2') + 1.65*x_('i3',_'j3') + x_('i3',_'j4') - 0.125*y_i1 - 0.14*y_i2 - 0.17*y_i3\n"
     ]
    }
   ],
   "source": [
    "# Resolver y mostrar resultados \n",
    "barriles_enviados.solve()\n",
    "\n",
    "print(\"Estado:\", LpStatus[barriles_enviados.status])\n",
    "\n",
    "\n",
    "\n",
    "\n",
    "for i in barriles_enviados.variables():\n",
    "    print(i.name, \"_\",i.varValue)\n",
    "\n",
    "print(barriles_enviados.objective)"
   ]
  }
 ],
 "metadata": {
  "kernelspec": {
   "display_name": "Python 3",
   "language": "python",
   "name": "python3"
  },
  "language_info": {
   "codemirror_mode": {
    "name": "ipython",
    "version": 3
   },
   "file_extension": ".py",
   "mimetype": "text/x-python",
   "name": "python",
   "nbconvert_exporter": "python",
   "pygments_lexer": "ipython3",
   "version": "3.13.1"
  }
 },
 "nbformat": 4,
 "nbformat_minor": 2
}
